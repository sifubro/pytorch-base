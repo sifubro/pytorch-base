{
 "cells": [
  {
   "cell_type": "markdown",
   "id": "eac8de4a-7028-42cc-b79f-7da38bd2c3ba",
   "metadata": {},
   "source": [
    "The choice of inheriting from tf.keras.layers.Layer instead of tf.Module for implementing a custom dense layer in TensorFlow involves considerations related to functionality, ease of use within the Keras API, and compatibility with other Keras layers and models. Here's a breakdown of why tf.keras.layers.Layer is typically preferred:"
   ]
  },
  {
   "cell_type": "code",
   "execution_count": null,
   "id": "a08bb59b-a329-40d1-9be5-778a708a4c03",
   "metadata": {},
   "outputs": [],
   "source": [
    "class Dense(tf.Module):\n",
    "  def __init__(self, input_dim, output_size, name=None):\n",
    "    super().__init__(name=name)\n",
    "    self.w = tf.Variable(\n",
    "      tf.random.normal([input_dim, output_size]), name='w')\n",
    "    self.b = tf.Variable(tf.zeros([output_size]), name='b')\n",
    "  def __call__(self, x):\n",
    "    y = tf.matmul(x, self.w) + self.b\n",
    "    return tf.nn.relu(y)"
   ]
  },
  {
   "cell_type": "code",
   "execution_count": null,
   "id": "020f81fe-dd4c-430a-abed-931162afc5cc",
   "metadata": {},
   "outputs": [],
   "source": [
    "class Dense(tf.keras.layers.Layer):\n",
    "  def __init__(self, input_dim, output_size, name=None):\n",
    "    super().__init__(name=name)\n",
    "    self.w = tf.Variable(\n",
    "      tf.random.normal([input_dim, output_size]), name='w')\n",
    "    self.b = tf.Variable(tf.zeros([output_size]), name='b')\n",
    "  def __call__(self, x):\n",
    "    y = tf.matmul(x, self.w) + self.b\n",
    "    return tf.nn.relu(y)"
   ]
  },
  {
   "cell_type": "code",
   "execution_count": null,
   "id": "78cd9532-3e51-4c31-9c39-b913398b7d2f",
   "metadata": {},
   "outputs": [],
   "source": []
  },
  {
   "cell_type": "code",
   "execution_count": null,
   "id": "7b701fc8-dbfa-483e-9d3b-f7e0041ecfca",
   "metadata": {},
   "outputs": [],
   "source": []
  },
  {
   "cell_type": "code",
   "execution_count": null,
   "id": "94aee109-fa35-4ad2-b87f-75df203b891b",
   "metadata": {},
   "outputs": [],
   "source": []
  },
  {
   "cell_type": "code",
   "execution_count": null,
   "id": "ddc19cf4-17c0-4810-ba11-207dfdcf3354",
   "metadata": {},
   "outputs": [],
   "source": []
  },
  {
   "cell_type": "code",
   "execution_count": null,
   "id": "8ff478bf-8b7b-4a95-a12b-891e83728e10",
   "metadata": {},
   "outputs": [],
   "source": []
  },
  {
   "cell_type": "code",
   "execution_count": null,
   "id": "255dc699-0a18-4420-8f02-bb2dca13cafa",
   "metadata": {},
   "outputs": [],
   "source": []
  },
  {
   "cell_type": "code",
   "execution_count": null,
   "id": "5bca812b-c10d-4c36-ab16-8f854ee66835",
   "metadata": {},
   "outputs": [],
   "source": []
  },
  {
   "cell_type": "code",
   "execution_count": null,
   "id": "f06e4e60-aafb-450d-91f8-e08561427182",
   "metadata": {},
   "outputs": [],
   "source": []
  },
  {
   "cell_type": "code",
   "execution_count": null,
   "id": "899814b0-fae2-4c4d-b4ec-e3405a04e3be",
   "metadata": {},
   "outputs": [],
   "source": []
  },
  {
   "cell_type": "code",
   "execution_count": null,
   "id": "6bca2bc4-8051-40be-90a7-67fd70b2030a",
   "metadata": {},
   "outputs": [],
   "source": []
  },
  {
   "cell_type": "code",
   "execution_count": null,
   "id": "ca9545e1-78c1-48d4-94ab-30058a923233",
   "metadata": {},
   "outputs": [],
   "source": []
  },
  {
   "cell_type": "code",
   "execution_count": null,
   "id": "e7a7c848-65ec-4fd4-8674-0501aa225061",
   "metadata": {},
   "outputs": [],
   "source": []
  },
  {
   "cell_type": "code",
   "execution_count": null,
   "id": "27014631-42f1-4a3f-b558-7a8199a104a6",
   "metadata": {},
   "outputs": [],
   "source": []
  },
  {
   "cell_type": "code",
   "execution_count": null,
   "id": "e176e0c1-c557-4b44-ab31-71e817c452e6",
   "metadata": {},
   "outputs": [],
   "source": []
  },
  {
   "cell_type": "code",
   "execution_count": null,
   "id": "0ac8e974-ea5d-49f1-bcff-b5f5abf56c00",
   "metadata": {},
   "outputs": [],
   "source": []
  },
  {
   "cell_type": "code",
   "execution_count": null,
   "id": "db30a72d-aa9d-4903-823c-6fe897199bc1",
   "metadata": {},
   "outputs": [],
   "source": []
  }
 ],
 "metadata": {
  "kernelspec": {
   "display_name": "Python 3 (ipykernel)",
   "language": "python",
   "name": "python3"
  },
  "language_info": {
   "codemirror_mode": {
    "name": "ipython",
    "version": 3
   },
   "file_extension": ".py",
   "mimetype": "text/x-python",
   "name": "python",
   "nbconvert_exporter": "python",
   "pygments_lexer": "ipython3",
   "version": "3.8.18"
  }
 },
 "nbformat": 4,
 "nbformat_minor": 5
}
